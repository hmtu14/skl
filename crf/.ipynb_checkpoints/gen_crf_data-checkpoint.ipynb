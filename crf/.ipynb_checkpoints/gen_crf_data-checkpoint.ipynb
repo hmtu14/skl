{
 "cells": [
  {
   "cell_type": "code",
   "execution_count": null,
   "metadata": {},
   "outputs": [],
   "source": [
    "from nltk.parse.generate import generate, demo_grammar\n",
    "from nltk import CFG\n",
    "import random\n",
    "import nltk\n",
    "import csv\n",
    "import spacy\n",
    "from spacy.tokens import Doc"
   ]
  },
  {
   "cell_type": "code",
   "execution_count": null,
   "metadata": {},
   "outputs": [],
   "source": [
    "nlp = spacy.load('en_core_web_md')"
   ]
  },
  {
   "cell_type": "code",
   "execution_count": null,
   "metadata": {},
   "outputs": [],
   "source": [
    "%%time\n",
    "skill_grammar = nltk.data.load('./data/gen_data_crf/list_skill_grammar.cfg')\n",
    "\n",
    "sentences = list(generate(skill_grammar,depth=7))\n",
    "print(len(sentences))"
   ]
  },
  {
   "cell_type": "code",
   "execution_count": null,
   "metadata": {},
   "outputs": [],
   "source": [
    "samples = random.sample(sentences, 10)"
   ]
  },
  {
   "cell_type": "code",
   "execution_count": null,
   "metadata": {},
   "outputs": [],
   "source": [
    "data = []"
   ]
  },
  {
   "cell_type": "code",
   "execution_count": null,
   "metadata": {},
   "outputs": [],
   "source": [
    "%%time\n",
    "for sample in samples:\n",
    "    label = []\n",
    "    for word_phrase in sample:\n",
    "        c_label = str(skill_grammar.productions(rhs=word_phrase)[0].lhs())\n",
    "        if (len(word_phrase.split(' ')) == 1):\n",
    "            if ('SKL' in c_label or 'P_language' in c_label):\n",
    "                label.append('S-SKILL')\n",
    "            elif ('Level' in c_label):\n",
    "                label.append('S-LEVEL')\n",
    "            else:\n",
    "                label.append('O')\n",
    "        elif (len(word_phrase.split(' ')) == 2):\n",
    "            if ('SKL' in c_label or 'P_language' in c_label):\n",
    "                label.append('B-SKILL')\n",
    "                label.append('E-SKILL')\n",
    "            elif ('Level' in c_label):\n",
    "                label.append('B-LEVEL')\n",
    "                label.append('E-LEVEL')\n",
    "            else:\n",
    "                label.append('O')\n",
    "        else:\n",
    "            if ('SKL' in c_label or 'P_language' in c_label):\n",
    "                label.append('B-SKILL')\n",
    "                for i in range(len(word_phrase.split(' '))-2):\n",
    "                    label.append('M-SKILL')\n",
    "                label.append('E-SKILL')\n",
    "            elif ('Level' in c_label):\n",
    "                label.append('B-LEVEL')\n",
    "                for i in range(len(word_phrase.split(' '))-2):\n",
    "                    label.append('M-LEVEL')\n",
    "                label.append('E-LEVEL')\n",
    "            else:\n",
    "                for i in range(len(word_phrase.split(' '))):\n",
    "                    label.append('O')\n",
    "    doc = Doc(nlp.vocab, words=' '.join(sample).split(' '))\n",
    "    deps = nlp.parser(doc)\n",
    "    tagger = nlp.tagger(doc)\n",
    "    for i,word in enumerate(deps):\n",
    "        data.append([word.text, tagger[i].pos_, word.dep_, word.head.text, label[i]])\n",
    "    data.append([0,0,0,0,0])"
   ]
  },
  {
   "cell_type": "code",
   "execution_count": null,
   "metadata": {},
   "outputs": [],
   "source": [
    "with open('./data/gen_data_POS_TAG.csv', 'w', encoding=\"utf8\") as outputf:\n",
    "    writer = csv.writer(outputf)\n",
    "    for line in data:\n",
    "        writer.writerow(line)"
   ]
  }
 ],
 "metadata": {
  "kernelspec": {
   "display_name": "Python 3",
   "language": "python",
   "name": "python3"
  },
  "language_info": {
   "codemirror_mode": {
    "name": "ipython",
    "version": 3
   },
   "file_extension": ".py",
   "mimetype": "text/x-python",
   "name": "python",
   "nbconvert_exporter": "python",
   "pygments_lexer": "ipython3",
   "version": "3.5.2"
  }
 },
 "nbformat": 4,
 "nbformat_minor": 2
}
