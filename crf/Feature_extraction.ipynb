{
 "cells": [
  {
   "cell_type": "code",
   "execution_count": 1,
   "metadata": {},
   "outputs": [],
   "source": [
    "import csv\n",
    "from sklearn.feature_extraction.text import CountVectorizer\n",
    "import spacy\n",
    "import nltk"
   ]
  },
  {
   "cell_type": "code",
   "execution_count": 2,
   "metadata": {},
   "outputs": [],
   "source": [
    "#Load spacy model\n",
    "nlp = spacy.load(\"en_core_web_md\")"
   ]
  },
  {
   "cell_type": "code",
   "execution_count": 3,
   "metadata": {},
   "outputs": [],
   "source": [
    "#Read_file\n",
    "corpus = []\n",
    "with open(\"SKL_data.csv\",\"r\", encoding=\"utf8\") as inputf:\n",
    "    reader = csv.reader(inputf)\n",
    "    for line in reader:\n",
    "        corpus.append(line[0])"
   ]
  },
  {
   "cell_type": "code",
   "execution_count": 4,
   "metadata": {},
   "outputs": [],
   "source": [
    "#CountVectorizer\n",
    "vectorizer = CountVectorizer(lowercase=False, ngram_range=(1,2))\n",
    "X = vectorizer.fit_transform(corpus)"
   ]
  },
  {
   "cell_type": "code",
   "execution_count": 5,
   "metadata": {},
   "outputs": [],
   "source": [
    "def split_and_comma(block):\n",
    "    for i in block.split(\",\"):\n",
    "        for it in i.split(\"and\"):\n",
    "            yield it"
   ]
  },
  {
   "cell_type": "code",
   "execution_count": 6,
   "metadata": {},
   "outputs": [],
   "source": [
    "def parse_NOUN(root, doc):\n",
    "    res = []\n",
    "    #Get noun at root:\n",
    "    #Need update\n",
    "    for chunk in doc.noun_chunks:\n",
    "        if root.text == chunk.root.text:\n",
    "            res.append(chunk)\n",
    "            break\n",
    "    #Loop child\n",
    "    for child in root.children:\n",
    "        #Can kiem tra them appos voi truong hop () se bi nham thanh appos\n",
    "        if (child.dep_ == \"conj\" or child.dep_ == \"appos\") and (child.pos_ == \"NOUN\" or child.pos_ == \"PROPN\"):\n",
    "            res.extend(parse_NOUN(child,doc))\n",
    "    return res"
   ]
  },
  {
   "cell_type": "code",
   "execution_count": 15,
   "metadata": {},
   "outputs": [],
   "source": [
    "def parse_skill_dep(string):\n",
    "    doc = nlp(string)\n",
    "    field = []\n",
    "    level = []\n",
    "    skill = []\n",
    "    \n",
    "    if (string.count(\":\") > 1):\n",
    "        return(field, level,skill)    \n",
    "\n",
    "    for token in doc:\n",
    "        #If :\n",
    "        if (\":\" in token.text):\n",
    "            #If truoc : la noun:\n",
    "            #Co the kiem tra them noun nay co phai la root k. Neu la root thi ok, k phai root thi can kiem tra them\n",
    "            #Example: Programing Languages and Frameworks:\n",
    "            if (token.head.pos_ == \"NOUN\" or token.head.pos_ == \"PROPN\"):\n",
    "                #Lay noun_chunk:\n",
    "                noun_chunk = \"\"\n",
    "                c_level = \"\"\n",
    "                for chunk in doc.noun_chunks:\n",
    "                    if token.head.text == chunk.root.text:\n",
    "                        noun_chunk = chunk\n",
    "                #Xac dinh ADJ/field:\n",
    "                for child in token.head.children:\n",
    "                    if child.dep_ == \"amod\":\n",
    "                        c_level += child.text + \" \"\n",
    "                field.append(noun_chunk)\n",
    "                level.append(c_level)\n",
    "                #Lay list sau do:\n",
    "                #tim node tiep theo (thuong la appos)\n",
    "                flag = False\n",
    "                for child in token.head.children:\n",
    "                    if (child.dep_ == \"appos\" or child.dep_ == \"npadvmod\" ) and (child.pos_ == \"NOUN\" or child.pos_ == \"PROPN\"):\n",
    "                        skill.append(parse_NOUN(child,doc))\n",
    "                        flag = True\n",
    "                if (not flag):\n",
    "                    skill.append([])\n",
    "            else:\n",
    "                #TODO\n",
    "                print(\"TODO\")\n",
    "                pass\n",
    "        if (token.pos_ == \"ADP\"):\n",
    "            #Neu la gioi tu\n",
    "            #Neu head la noun:\n",
    "            if (token.head.pos_ == \"NOUN\" or token.head.pos_ == \"PROPN\"):\n",
    "                #Lay noun_chunk:\n",
    "                noun_chunk = \"\"\n",
    "                c_level = \"\"\n",
    "                for chunk in doc.noun_chunks:\n",
    "                    if token.head.text == chunk.root.text:\n",
    "                        noun_chunk = chunk\n",
    "                #Xac dinh ADJ/field:\n",
    "                for child in token.head.children:\n",
    "                    if child.dep_ == \"amod\":\n",
    "                        c_level += child.text + \" \"\n",
    "                field.append(noun_chunk)\n",
    "                level.append(c_level)\n",
    "                #Get skill:\n",
    "                #Get skill_start_node:\n",
    "                for child in token.children:\n",
    "                    if child.dep_ == \"pobj\":\n",
    "                        skill_node = child\n",
    "                        break\n",
    "                if (skill_node.pos_ == \"NOUN\" or skill_node.pos_ == \"PROPN\"):\n",
    "                    skill.append(parse_NOUN(skill_node,doc))\n",
    "            #Neu head la adj:\n",
    "            if (token.head.pos_ == \"ADJ\"):\n",
    "                c_level = token.head.text\n",
    "                field.append(\"\")\n",
    "                level.append(c_level)\n",
    "                #Get skill:\n",
    "                #Get skill_start_node:\n",
    "                for child in token.children:\n",
    "                    if child.dep_ == \"pobj\":\n",
    "                        skill_node = child\n",
    "                        break\n",
    "                if (skill_node.pos_ == \"NOUN\" or skill_node.pos_ == \"PROPN\"):\n",
    "                    skill.append(parse_NOUN(skill_node,doc))\n",
    "                    \n",
    "    return(field, level, skill)"
   ]
  },
  {
   "cell_type": "code",
   "execution_count": 27,
   "metadata": {},
   "outputs": [],
   "source": [
    "string = \"Good at problem solving and creative thinking\"\n",
    "field, level, skill = parse_skill_dep(string)"
   ]
  },
  {
   "cell_type": "code",
   "execution_count": 28,
   "metadata": {},
   "outputs": [
    {
     "name": "stdout",
     "output_type": "stream",
     "text": [
      "['']\n",
      "['Good']\n",
      "[[problem]]\n"
     ]
    }
   ],
   "source": [
    "print(field)\n",
    "print(level)\n",
    "print(skill)"
   ]
  },
  {
   "cell_type": "code",
   "execution_count": 18,
   "metadata": {},
   "outputs": [
    {
     "name": "stdout",
     "output_type": "stream",
     "text": [
      ".NET framework\n",
      "Visual Basic\n",
      "NET, ASP.NET\n"
     ]
    }
   ],
   "source": [
    "for chunk in doc.noun_chunks:\n",
    "    print(chunk)"
   ]
  },
  {
   "cell_type": "code",
   "execution_count": null,
   "metadata": {},
   "outputs": [],
   "source": []
  }
 ],
 "metadata": {
  "kernelspec": {
   "display_name": "Python 3",
   "language": "python",
   "name": "python3"
  },
  "language_info": {
   "codemirror_mode": {
    "name": "ipython",
    "version": 3
   },
   "file_extension": ".py",
   "mimetype": "text/x-python",
   "name": "python",
   "nbconvert_exporter": "python",
   "pygments_lexer": "ipython3",
   "version": "3.5.2"
  }
 },
 "nbformat": 4,
 "nbformat_minor": 2
}
