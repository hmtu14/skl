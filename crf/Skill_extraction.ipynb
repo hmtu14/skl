{
 "cells": [
  {
   "cell_type": "code",
   "execution_count": 1,
   "metadata": {},
   "outputs": [],
   "source": [
    "import csv\n",
    "import time\n",
    "import re\n",
    "import os\n",
    "import threading\n",
    "from nltk.corpus import stopwords\n",
    "import spacy\n",
    "import itertools"
   ]
  },
  {
   "cell_type": "code",
   "execution_count": 2,
   "metadata": {},
   "outputs": [],
   "source": [
    "list_remove = [\"&amp;\"]\n",
    "pause_flag = False\n",
    "\n",
    "stopWords = set(stopwords.words('english'))\n",
    "skill_dict = [] #skill with more than 2 word\n",
    "all_skill_dict = []\n",
    "nlp = spacy.load('en_core_web_md')\n",
    "skl_data = []"
   ]
  },
  {
   "cell_type": "code",
   "execution_count": 3,
   "metadata": {},
   "outputs": [],
   "source": [
    "with open(\"./data/skl.csv\",\"r\", encoding=\"utf8\") as inputf:\n",
    "    reader = csv.reader(inputf)\n",
    "    for line in reader:\n",
    "        skl_data.append(line)\n",
    "\n",
    "with open(\"./data/Skills.txt\", \"r\") as inputf:\n",
    "    reader = inputf.readlines()\n",
    "    for line in reader:\n",
    "        if len(line.split(\"-\")) > 1:\n",
    "            try:\n",
    "                for item in line.split(\"-\"):\n",
    "                    float(item)\n",
    "            except:\n",
    "                skill_dict.append(line)\n",
    "        all_skill_dict.append(line.replace(\"-\",\" \").strip())"
   ]
  },
  {
   "cell_type": "code",
   "execution_count": 4,
   "metadata": {},
   "outputs": [],
   "source": [
    "def is_bullet(s):    \n",
    "    bullet_pattern = r'\\\\x[0-9a-f]{2}|\\\\u[0-9a-f]{4}'    \n",
    "    if len(s.strip()) == 1:        \n",
    "        s = s.encode('unicode_escape').decode('utf-8')        \n",
    "        m = re.fullmatch(bullet_pattern, s)        \n",
    "        return m != None    \n",
    "    return False"
   ]
  },
  {
   "cell_type": "code",
   "execution_count": 5,
   "metadata": {},
   "outputs": [],
   "source": [
    "def remove_newline(para):\n",
    "    for i in range(len(para)):\n",
    "        if (i >= len(para)):\n",
    "            return para\n",
    "        char = para[i]\n",
    "        if char == \"\\n\":\n",
    "            try:\n",
    "                prev_para = para[:i].strip()\n",
    "                next_para = para[i+1:].strip()\n",
    "                #If - or o is bullet:\n",
    "                if next_para[0] == \"o\" or next_para == \"-\" or next_para == \"+\":\n",
    "                    if next_para[1:].strip()[0].isupper():\n",
    "                        para = para[:i] + \"^\" + para[i+1:]\n",
    "                    continue\n",
    "                #If ,\n",
    "                if (prev_para[len(prev_para)-1] == \",\"):\n",
    "                    para = para[:i] + \" \" + para[i+1:]\n",
    "                    continue\n",
    "                #No upper\n",
    "                if (next_para[0].islower()):\n",
    "                    para = para[:i] + \" \" + para[i+1:]\n",
    "                    continue\n",
    "                #stopwords\n",
    "                if (prev_para.split(\" \")[len(prev_para.split(\" \"))-1] in stopWords):\n",
    "                    para = para[:i] + \" \" + para[i+1:]\n",
    "                    continue\n",
    "                #&\n",
    "                if (prev_para[len(prev_para)-1] == \"&\"):\n",
    "                    para = para[:i] + \" \" + para[i+1:]\n",
    "                    continue\n",
    "                #Skill splitted:\n",
    "                tmp1 = prev_para.split(\" \")\n",
    "                tmp2 = next_para.split(\" \")\n",
    "                for skill in skill_dict:\n",
    "                    if (tmp1[len(tmp1)-1].strip().lower() in skill) and (tmp2[0].strip().lower() in skill):\n",
    "                        para = para[:i] + \" \" + para[i+1:]\n",
    "                        continue\n",
    "            except:\n",
    "                continue\n",
    "            #Tach dong:\n",
    "            para = para[:i] + \"^\" + para[i+1:]\n",
    "\n",
    "    return para"
   ]
  },
  {
   "cell_type": "code",
   "execution_count": 6,
   "metadata": {},
   "outputs": [],
   "source": [
    "def remove_bullet(para):\n",
    "    for char in para:\n",
    "        if is_bullet(char):\n",
    "            para = para.replace(char, \"^\")\n",
    "    return para"
   ]
  },
  {
   "cell_type": "code",
   "execution_count": 7,
   "metadata": {},
   "outputs": [],
   "source": [
    "def split_newline(para):\n",
    "    for i in range(len(para)):\n",
    "        if (i >= len(para)):\n",
    "            return para\n",
    "        char = para[i]\n",
    "        if char == \".\":\n",
    "            prev_para = para[:i].strip()\n",
    "            next_para_raw = para[i+1:]\n",
    "            next_para = para[i+1:].strip()\n",
    "            # .net\n",
    "            try:\n",
    "                if (next_para_raw[0:3].lower() == \"net\"):\n",
    "                    continue\n",
    "            except:\n",
    "                pass\n",
    "            #num.num\n",
    "            try:\n",
    "                if (prev_para[len(prev_para) -1].isdigit() and next_para[0].isdigit ):\n",
    "                    continue\n",
    "            except:\n",
    "                pass\n",
    "            #No uppercase\n",
    "            try:\n",
    "                if (next_para[0].islower()):\n",
    "                    continue\n",
    "            except:\n",
    "                pass\n",
    "\n",
    "            para = para[:i] + \"^\" + para[i+1:]\n",
    "    return para"
   ]
  },
  {
   "cell_type": "code",
   "execution_count": 8,
   "metadata": {},
   "outputs": [],
   "source": [
    "def split_and_comma(block):\n",
    "    for i in block.split(\",\"):\n",
    "        for it in i.split(\"and\"):\n",
    "            yield it"
   ]
  },
  {
   "cell_type": "code",
   "execution_count": 9,
   "metadata": {},
   "outputs": [],
   "source": [
    "def skill_ext(block):\n",
    "    #Pre-process\n",
    "    block = block.strip()\n",
    "    block = block.replace(\",\", \" , \") # split ,\n",
    "    block = re.sub(' +',' ',block) #remove duplicate space\n",
    "    #If :\n",
    "    if (\":\" in block):\n",
    "        idx = block.find(\":\")\n",
    "        content = block[idx+1:]\n",
    "        return True, list(split_and_comma(content))\n",
    "    #If list skill splited by ,:\n",
    "    if (\",\" in block):\n",
    "        #Find ADP\n",
    "        ADP = \"\"\n",
    "        doc = nlp(block)\n",
    "        for token in doc:\n",
    "            if (token.pos_ == \"ADP\"):\n",
    "                ADP = token.text\n",
    "                break\n",
    "        #If no ADP\n",
    "        if (ADP == \"\"):\n",
    "            return True, list(split_and_comma(block))\n",
    "        #If there's ADP:\n",
    "        #Find the nearest ADP to ,:\n",
    "        ADP = \"\"\n",
    "        for token in doc:\n",
    "            if (token.pos_ == \"ADP\"):\n",
    "                ADP = token.text\n",
    "            if (token.pos_ == \"PUNCT\"):\n",
    "                break\n",
    "        idx = block.find(ADP)      #Need to fix: sometime find not correct\n",
    "        block = block[idx+1+len(ADP):]\n",
    "        return True, list(split_and_comma(block))\n",
    "    else:\n",
    "        return False, block"
   ]
  },
  {
   "cell_type": "code",
   "execution_count": 10,
   "metadata": {},
   "outputs": [],
   "source": [
    "def skill_extracter(para):\n",
    "    res = {}\n",
    "    res[\"Content\"] = para\n",
    "    res[\"Skill\"] = []\n",
    "    res[\"Other\"] = []\n",
    "    para = remove_newline(para)\n",
    "    para = remove_bullet(para)\n",
    "    para = split_newline(para)\n",
    "    for block in para.split(\"^\"):\n",
    "        if block.strip() == \"\":\n",
    "            continue\n",
    "        bl, result = skill_ext(block)\n",
    "        if bl:\n",
    "            res[\"Skill\"].extend(result)\n",
    "        else:\n",
    "            res[\"Other\"].append(result)\n",
    "    return res"
   ]
  },
  {
   "cell_type": "code",
   "execution_count": 11,
   "metadata": {},
   "outputs": [],
   "source": [
    "corpus = []\n",
    "with open(\"SKL_data.csv\",\"r\", encoding=\"utf8\") as inputf:\n",
    "    reader = csv.reader(inputf)\n",
    "    for line in reader:\n",
    "        corpus.append(line[0])"
   ]
  },
  {
   "cell_type": "code",
   "execution_count": 12,
   "metadata": {},
   "outputs": [],
   "source": [
    "i = 260"
   ]
  },
  {
   "cell_type": "code",
   "execution_count": 24,
   "metadata": {
    "scrolled": true
   },
   "outputs": [
    {
     "data": {
      "text/plain": [
       "['TECHNICAL SKILLS',\n",
       " '',\n",
       " ' Programming and Scripting languages: C/C++, Java, Visual Basic, HTML, PHP, Python, Bash shell',\n",
       " '',\n",
       " ' Application/Web servers: JBoss, Tomcat, Apache   ',\n",
       " '',\n",
       " ' Database management systems: MS SQL, MySQL, PostgreSQL ',\n",
       " '',\n",
       " ' Configuration management tools: Subversion, Clearcase',\n",
       " '',\n",
       " ' Bug tracking tools:  Citrix Clarify, Bugzilla, Redmine  ',\n",
       " '',\n",
       " ' IDE/CASE tools: Microsoft Project, Eclipse, MS Visual Studio',\n",
       " '',\n",
       " ' Continuous integration: CruiseControl, Hudson ',\n",
       " '',\n",
       " ' Network protocols: SNMP, TL1, CLI, TCP/IP, SIP',\n",
       " '',\n",
       " ' Platforms: Windows, Linux, Unix, Solaris, VxWorks  ']"
      ]
     },
     "execution_count": 24,
     "metadata": {},
     "output_type": "execute_result"
    }
   ],
   "source": [
    "para = corpus[i]\n",
    "i += 1\n",
    "para = remove_newline(para)\n",
    "para = remove_bullet(para)\n",
    "para = split_newline(para)\n",
    "para.split(\"^\")"
   ]
  },
  {
   "cell_type": "code",
   "execution_count": null,
   "metadata": {},
   "outputs": [],
   "source": []
  }
 ],
 "metadata": {
  "kernelspec": {
   "display_name": "Python 3",
   "language": "python",
   "name": "python3"
  },
  "language_info": {
   "codemirror_mode": {
    "name": "ipython",
    "version": 3
   },
   "file_extension": ".py",
   "mimetype": "text/x-python",
   "name": "python",
   "nbconvert_exporter": "python",
   "pygments_lexer": "ipython3",
   "version": "3.5.2"
  }
 },
 "nbformat": 4,
 "nbformat_minor": 2
}
